{
 "cells": [
  {
   "cell_type": "code",
   "execution_count": 1,
   "metadata": {},
   "outputs": [],
   "source": [
    "from dataset_process.dataset_splitter import split_datasets\n",
    "from dataset_process.transformation import SYKE2024_zoo_transform, SYKE2022_phyto_transform\n",
    "import torch\n",
    "import random\n",
    "import numpy as np\n",
    "torch.manual_seed(42)\n",
    "random.seed(42)\n",
    "np.random.seed(42)\n",
    "\n",
    "CLASS_SPLIT_PATHS = {\n",
    "    'zooplankton': \"./data/class_splits/SYKE-plankton_ZooScan_2024\",\n",
    "    'phytoplankton': \"./data/class_splits/SYKE-plankton_IFCB_2022\",\n",
    "}\n",
    "\n",
    "IMG_FOLDER_PATHS = {\n",
    "    'zooplankton': \"./data/images/SYKE-plankton_ZooScan_2024\",\n",
    "    'phytoplankton': \"./data/images/labeled_20201020\",\n",
    "}\n",
    "\n",
    "OUTPUT_FOLDER_NAMES = {\n",
    "    'zooplankton': \"zooplankton_224\",\n",
    "    'phytoplankton': \"phytoplankton_224\",\n",
    "}\n",
    "\n",
    "image_size = (224, 224)\n",
    "N_train = 1000 # How many images in training set\n",
    "transform_zoo = SYKE2024_zoo_transform(image_size, crop=True)\n",
    "transform_phyto = SYKE2022_phyto_transform(image_size)\n",
    "\n",
    "split_datasets(\n",
    "    dataset_name='zooplankton',\n",
    "    transform=transform_zoo,\n",
    "    CLASS_SPLIT_PATHS = CLASS_SPLIT_PATHS,\n",
    "    IMG_FOLDER_PATHS = IMG_FOLDER_PATHS,\n",
    "    OUTPUT_FOLDER_NAMES = OUTPUT_FOLDER_NAMES,\n",
    "    N=N_train  \n",
    ")\n",
    "\n",
    "split_datasets(\n",
    "    dataset_name='phytoplankton',\n",
    "    transform=transform_phyto,\n",
    "    CLASS_SPLIT_PATHS = CLASS_SPLIT_PATHS,\n",
    "    IMG_FOLDER_PATHS = IMG_FOLDER_PATHS,\n",
    "    OUTPUT_FOLDER_NAMES = OUTPUT_FOLDER_NAMES,\n",
    "    N=N_train\n",
    ")\n"
   ]
  }
 ],
 "metadata": {
  "kernelspec": {
   "display_name": "openSetPlankton",
   "language": "python",
   "name": "python3"
  },
  "language_info": {
   "codemirror_mode": {
    "name": "ipython",
    "version": 3
   },
   "file_extension": ".py",
   "mimetype": "text/x-python",
   "name": "python",
   "nbconvert_exporter": "python",
   "pygments_lexer": "ipython3",
   "version": "3.12.5"
  }
 },
 "nbformat": 4,
 "nbformat_minor": 2
}
