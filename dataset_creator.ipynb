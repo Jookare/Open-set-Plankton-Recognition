{
 "cells": [
  {
   "cell_type": "code",
   "execution_count": 1,
   "metadata": {},
   "outputs": [],
   "source": [
    "from dataset_process.dataset_splitter import split_datasets\n",
    "from dataset_process.transformation import SYKE2024_zoo_transform, SYKE2022_phyto_transform\n",
    "\n",
    "CLASS_SPLIT_PATHS = {\n",
    "    'zooplankton': \"./data/class_splits/SYKE-plankton_ZooScan_2024\",\n",
    "    'phytoplankton': \"./data/class_splits/SYKE-plankton_IFCB_2022\",\n",
    "}\n",
    "\n",
    "IMG_FOLDER_PATHS = {\n",
    "    'zooplankton': \"./data/images/SYKE-plankton_ZooScan_2024\",\n",
    "    'phytoplankton': \"./data/images/labeled_20201020\",\n",
    "}\n",
    "\n",
    "OUTPUT_FOLDER_NAMES = {\n",
    "    'zooplankton': \"Zooplankton_224\",\n",
    "    'phytoplankton': \"Phytoplankton_224\",\n",
    "}\n",
    "\n",
    "image_size = (224, 224)\n",
    "N_train = 1000 # How many images in training set\n",
    "transform_zoo = SYKE2024_zoo_transform(image_size, crop=True)\n",
    "transform_phyto = SYKE2022_phyto_transform(image_size)\n",
    "\n",
    "# split_datasets(\n",
    "#     dataset_name='zooplankton',\n",
    "#     transform=transform_zoo,\n",
    "#     CLASS_SPLIT_PATHS = CLASS_SPLIT_PATHS,\n",
    "#     IMG_FOLDER_PATHS = IMG_FOLDER_PATHS,\n",
    "#     OUTPUT_FOLDER_NAMES = OUTPUT_FOLDER_NAMES,\n",
    "#     N=N_train  \n",
    "# )\n",
    "\n",
    "# split_datasets(\n",
    "#     dataset_name='phytoplankton',\n",
    "#     transform=transform_phyto,\n",
    "#     CLASS_SPLIT_PATHS = CLASS_SPLIT_PATHS,\n",
    "#     IMG_FOLDER_PATHS = IMG_FOLDER_PATHS,\n",
    "#     OUTPUT_FOLDER_NAMES = OUTPUT_FOLDER_NAMES,\n",
    "#     N=N_train\n",
    "# )\n"
   ]
  },
  {
   "cell_type": "code",
   "execution_count": 10,
   "metadata": {},
   "outputs": [
    {
     "name": "stdout",
     "output_type": "stream",
     "text": [
      "3185\n",
      "['Bubbles', 'Ceriodaphnia_sp', 'Copepoda_calanoida', 'Copepoda_cyclopoida', 'Copepoda_nauplius', 'Daphnia_sp', 'Evadne_sp', 'Fibers_etc', 'Gastropoda', 'Podon_sp', 'Polychaeta', 'Synchaeta_sp']\n",
      "2543\n",
      "['Bivalvia', 'Bivalvia_multiple', 'Bosmina_sp', 'Copepoda_cyclopoida', 'Copepoda_nauplius', 'Daphnia_sp', 'Evadne_sp', 'Fibers_etc', 'Gastropoda', 'Podon_sp', 'Polychaeta', 'Synchaeta_sp']\n",
      "4283\n",
      "['Bivalvia', 'Bivalvia_multiple', 'Bosmina_sp', 'Bubbles', 'Ceriodaphnia_sp', 'Copepoda_calanoida', 'Evadne_sp', 'Fibers_etc', 'Gastropoda', 'Podon_sp', 'Polychaeta', 'Synchaeta_sp']\n",
      "4308\n",
      "['Bivalvia', 'Bivalvia_multiple', 'Bosmina_sp', 'Bubbles', 'Ceriodaphnia_sp', 'Copepoda_calanoida', 'Copepoda_cyclopoida', 'Copepoda_nauplius', 'Daphnia_sp', 'Podon_sp', 'Polychaeta', 'Synchaeta_sp']\n",
      "3825\n",
      "['Bivalvia', 'Bivalvia_multiple', 'Bosmina_sp', 'Bubbles', 'Ceriodaphnia_sp', 'Copepoda_calanoida', 'Copepoda_cyclopoida', 'Copepoda_nauplius', 'Daphnia_sp', 'Evadne_sp', 'Fibers_etc', 'Gastropoda']\n"
     ]
    }
   ],
   "source": [
    "from dataset_process.dataset_creator import get_datasets\n",
    "from train_utils import train_test_transform\n",
    "\n",
    "from pathlib import Path\n",
    "\n",
    "# Includes both train and test transforms\n",
    "data_dir = \"./data/images/Zooplankton_224\"\n",
    "trial = 0\n",
    "trial_path = Path(f\"./data/class_splits/SYKE-plankton_ZooScan_2024\")\n",
    "\n",
    "train_transform = train_test_transform(num_channels=1).train()\n",
    "valid_transform = train_test_transform(num_channels=1).eval()\n",
    "\n",
    "transform = (train_transform, valid_transform)\n",
    "gallery = False\n",
    "\n",
    "for trial in range(5):\n",
    "    train_dataset, valid_dataset, test_dataset = get_datasets(data_dir, trial_path, trial, transform, unk_in_valid=False, gallery=False)\n",
    "    print(len(valid_dataset))\n",
    "    print(valid_dataset.class_names)\n"
   ]
  },
  {
   "cell_type": "code",
   "execution_count": 6,
   "metadata": {},
   "outputs": [
    {
     "name": "stdout",
     "output_type": "stream",
     "text": [
      "59\n",
      "15\n",
      "1277\n",
      "13\n",
      "116\n",
      "1864\n",
      "27\n",
      "63\n",
      "163\n",
      "51\n",
      "155\n",
      "22\n",
      "85\n",
      "231\n",
      "395\n",
      "4536\n"
     ]
    }
   ],
   "source": [
    "def get_class_images(main_folder_path, class_name):\n",
    "    folder_path = main_folder_path / class_name\n",
    "    # List all image files\n",
    "    image_files = [str(f) for f in folder_path.glob(\"*\") if f.suffix.lower() in {\".jpg\", \".png\", \".jpeg\"}]\n",
    "    return image_files\n",
    "\n",
    "path = Path(data_dir) / \"valid\"\n",
    "total = 0\n",
    "for c in valid_dataset.class_names:\n",
    "    images = get_class_images(path, c)\n",
    "    # print(len(images))\n",
    "    total += len(images)\n",
    "print(total)"
   ]
  }
 ],
 "metadata": {
  "kernelspec": {
   "display_name": "openSetPlankton",
   "language": "python",
   "name": "python3"
  },
  "language_info": {
   "codemirror_mode": {
    "name": "ipython",
    "version": 3
   },
   "file_extension": ".py",
   "mimetype": "text/x-python",
   "name": "python",
   "nbconvert_exporter": "python",
   "pygments_lexer": "ipython3",
   "version": "3.12.5"
  }
 },
 "nbformat": 4,
 "nbformat_minor": 2
}
